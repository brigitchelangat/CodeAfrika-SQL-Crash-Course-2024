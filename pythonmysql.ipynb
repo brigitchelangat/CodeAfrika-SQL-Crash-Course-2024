{
 "cells": [
  {
   "cell_type": "code",
   "execution_count": 1,
   "metadata": {},
   "outputs": [],
   "source": [
    "import mysql.connector"
   ]
  },
  {
   "cell_type": "code",
   "execution_count": 3,
   "metadata": {},
   "outputs": [],
   "source": [
    "#connecting to the database\n",
    "db = mysql.connector.connect(\n",
    "    host = 'localhost',\n",
    "    user = 'root',\n",
    "    password = 'bree@2023.N'\n",
    ")\n"
   ]
  },
  {
   "cell_type": "code",
   "execution_count": 4,
   "metadata": {},
   "outputs": [
    {
     "name": "stdout",
     "output_type": "stream",
     "text": [
      "Connection successful\n"
     ]
    }
   ],
   "source": [
    "#Check if the connection is successful\n",
    "if db:\n",
    "    print(\"Connection successful\")"
   ]
  },
  {
   "cell_type": "code",
   "execution_count": 5,
   "metadata": {},
   "outputs": [],
   "source": [
    "#creating a cursor to the db\n",
    "c = db.cursor()\n"
   ]
  },
  {
   "cell_type": "code",
   "execution_count": 6,
   "metadata": {},
   "outputs": [],
   "source": [
    "#Executing SQL statements using the cursor\n",
    "c.execute(\"CREATE DATABASE pythonSQL\")"
   ]
  },
  {
   "cell_type": "code",
   "execution_count": 7,
   "metadata": {},
   "outputs": [],
   "source": [
    "#SQL statement to show databases\n",
    "c.execute(\"SHOW DATABASES\")"
   ]
  },
  {
   "cell_type": "code",
   "execution_count": 11,
   "metadata": {},
   "outputs": [
    {
     "name": "stdout",
     "output_type": "stream",
     "text": [
      "('information_schema',)\n",
      "('mysql',)\n",
      "('performance_schema',)\n",
      "('pythonsql',)\n",
      "('sys',)\n"
     ]
    }
   ],
   "source": [
    "#Printing the databases\n",
    "for  database in c:\n",
    "    print(database)"
   ]
  },
  {
   "cell_type": "code",
   "execution_count": 12,
   "metadata": {},
   "outputs": [],
   "source": [
    "#using the database created earlier\n",
    "c.execute(\"USE pythonSQL\")"
   ]
  },
  {
   "cell_type": "code",
   "execution_count": 13,
   "metadata": {},
   "outputs": [],
   "source": [
    "#creating a table - Persons\n",
    "c.execute( \"CREATE TABLE Persons (PersonID int,LastName varchar(255),FirstName varchar(255),Address varchar(255),City varchar(255))\")"
   ]
  },
  {
   "cell_type": "code",
   "execution_count": 14,
   "metadata": {},
   "outputs": [],
   "source": [
    "#Creating Employees table\n",
    "c.execute(\"CREATE TABLE employees (id INT AUTO_INCREMENT PRIMARY KEY, EmployeeNo Varchar(255), FirstName Varchar(255), LastName Varchar(255), Age INT, Role Varchar(50))\")"
   ]
  },
  {
   "cell_type": "code",
   "execution_count": 15,
   "metadata": {},
   "outputs": [],
   "source": [
    "#Altering employees table by adding a column\n",
    "c.execute(\"ALTER TABLE employees ADD Column Phone varChar(255)\")"
   ]
  },
  {
   "cell_type": "code",
   "execution_count": 17,
   "metadata": {},
   "outputs": [],
   "source": [
    "#Creating departments table \n",
    "c.execute(\"CREATE TABLE Departments (id INT AUTO_INCREMENT PRIMARY KEY, name varChar(255), Head INT, FOREIGN KEY (Head) REFERENCES employees(id))\")"
   ]
  },
  {
   "cell_type": "code",
   "execution_count": 18,
   "metadata": {},
   "outputs": [],
   "source": [
    "\n",
    "c.execute(\"ALTER TABLE employees ADD COLUMN DepartmentID INT\")"
   ]
  },
  {
   "cell_type": "code",
   "execution_count": 19,
   "metadata": {},
   "outputs": [],
   "source": [
    "#Adding foreign key to employees table\n",
    "c.execute(\"ALTER TABLE employees ADD FOREIGN KEY (DepartmentID) REFERENCES departments(id)\")"
   ]
  },
  {
   "cell_type": "code",
   "execution_count": 20,
   "metadata": {},
   "outputs": [],
   "source": [
    "c.execute(\"SELECT * FROM employees\")"
   ]
  },
  {
   "cell_type": "code",
   "execution_count": 21,
   "metadata": {},
   "outputs": [],
   "source": [
    "for row in c:\n",
    "    print(row)"
   ]
  },
  {
   "cell_type": "code",
   "execution_count": 25,
   "metadata": {},
   "outputs": [
    {
     "name": "stdout",
     "output_type": "stream",
     "text": [
      "3  rows affected\n"
     ]
    }
   ],
   "source": [
    "#Inserting values into a table\n",
    "c.execute(\"INSERT INTO Departments (name) VALUES ('Human Resources'), ('Engineering'), ('Marketing')\")\n",
    "#Committing changes to the db\n",
    "db.commit()\n",
    "#Print rows affected\n",
    "print(c.rowcount,\" rows affected\")"
   ]
  },
  {
   "cell_type": "code",
   "execution_count": 26,
   "metadata": {},
   "outputs": [],
   "source": [
    "c.execute(\"SELECT * FROM Departments\")"
   ]
  },
  {
   "cell_type": "code",
   "execution_count": 27,
   "metadata": {},
   "outputs": [
    {
     "name": "stdout",
     "output_type": "stream",
     "text": [
      "(1, 'Human Resources', None)\n",
      "(2, 'Engineering', None)\n",
      "(3, 'Marketing', None)\n",
      "(4, 'Human Resources', None)\n",
      "(5, 'Engineering', None)\n",
      "(6, 'Marketing', None)\n"
     ]
    }
   ],
   "source": [
    "for row in c:\n",
    "    print(row)"
   ]
  },
  {
   "cell_type": "code",
   "execution_count": 28,
   "metadata": {},
   "outputs": [],
   "source": [
    "#Insertion into employees table in bulk\n",
    "sql = \"INSERT INTO employees (EmployeeNo, FirstName, LastName, DepartmentID, Age ,Phone) VALUES (%s,%s,%s,%s,%s,%s)\"\n",
    "val = ('2005','Brigit','Chelangat',3,3,'6235472713676')\n",
    "c.execute(sql,val)\n",
    "db.commit()"
   ]
  },
  {
   "cell_type": "code",
   "execution_count": 30,
   "metadata": {},
   "outputs": [
    {
     "name": "stdout",
     "output_type": "stream",
     "text": [
      "1 rows affected\n"
     ]
    }
   ],
   "source": [
    "print(c.rowcount,\"rows affected\")"
   ]
  },
  {
   "cell_type": "code",
   "execution_count": 33,
   "metadata": {},
   "outputs": [
    {
     "name": "stdout",
     "output_type": "stream",
     "text": [
      "(1, '2005', 'Brigit', 'Chelangat', 3, None, '6235472713676', 3)\n",
      "(2, '2005', 'Oak', 'Tree', 4, None, '6235472713676', 3)\n",
      "(3, '2005', 'Brian', 'Kiprono', 18, None, '6235472713676', 2)\n",
      "(4, '2005', 'Evans', 'Ruto', 13, None, '6235472713676', 1)\n",
      "(5, '2005', 'Kiptoo', 'Kemboi', 5, None, '6235472713676', 3)\n",
      "(6, '2005', 'John', 'Doe', 6, None, '6235472713676', 3)\n",
      "(7, '2005', 'Adam', 'Too', 16, None, '6235472713676', 2)\n",
      "(8, '2005', 'Brigit', 'Eve', 23, None, '6235472713676', 2)\n",
      "(9, '2005', 'Xanto', 'Chelangat', 30, None, '6235472713676', 2)\n"
     ]
    }
   ],
   "source": [
    "c.execute(\"SELECT * FROM employees\")\n",
    "for row in c:\n",
    "    print(row)"
   ]
  },
  {
   "cell_type": "code",
   "execution_count": 32,
   "metadata": {},
   "outputs": [
    {
     "name": "stdout",
     "output_type": "stream",
     "text": [
      "8 rows affected\n"
     ]
    }
   ],
   "source": [
    "#Bulk insertion\n",
    "sql = \"INSERT INTO employees (EmployeeNo, FirstName, LastName, DepartmentID, Age ,Phone) VALUES (%s,%s,%s,%s,%s,%s)\"\n",
    "#Values are in a tuple\n",
    "vals = [\n",
    "    ('2005','Oak','Tree',3,4,'6235472713676'),\n",
    "    ('2005','Brian','Kiprono',2,18,'6235472713676'),\n",
    "    ('2005','Evans','Ruto',1,13,'6235472713676'),\n",
    "    ('2005','Kiptoo','Kemboi',3,5,'6235472713676'),\n",
    "    ('2005','John','Doe',3,6,'6235472713676'),\n",
    "    ('2005','Adam','Too',2,16,'6235472713676'),\n",
    "    ('2005','Brigit','Eve',2,23,'6235472713676'),\n",
    "    ('2005','Xanto','Chelangat',2,30,'6235472713676')\n",
    "    ]\n",
    "#executemany function\n",
    "c.executemany(sql,vals)\n",
    "db.commit()\n",
    "print(c.rowcount,\"rows affected\")"
   ]
  },
  {
   "cell_type": "code",
   "execution_count": 34,
   "metadata": {},
   "outputs": [
    {
     "name": "stdout",
     "output_type": "stream",
     "text": [
      "(1, '2005', 'Brigit', 'Chelangat', 3, None, '6235472713676', 3)\n",
      "(2, '2005', 'Oak', 'Tree', 4, None, '6235472713676', 3)\n",
      "(3, '2005', 'Brian', 'Kiprono', 18, None, '6235472713676', 2)\n",
      "(4, '2005', 'Evans', 'Ruto', 13, None, '6235472713676', 1)\n",
      "(5, '2005', 'Kiptoo', 'Kemboi', 5, None, '6235472713676', 3)\n",
      "(6, '2005', 'John', 'Doe', 6, None, '6235472713676', 3)\n",
      "(7, '2005', 'Adam', 'Too', 16, None, '6235472713676', 2)\n",
      "(8, '2005', 'Brigit', 'Eve', 23, None, '6235472713676', 2)\n",
      "(9, '2005', 'Xanto', 'Chelangat', 30, None, '6235472713676', 2)\n"
     ]
    }
   ],
   "source": [
    "q = \"SELECT * FROM employees\"\n",
    "c.execute(q)\n",
    "\n",
    "#Fetch Values\n",
    "result = c.fetchall()\n",
    "#Print the values\n",
    "for row in result:\n",
    "    print(row)"
   ]
  },
  {
   "cell_type": "code",
   "execution_count": null,
   "metadata": {},
   "outputs": [],
   "source": []
  }
 ],
 "metadata": {
  "kernelspec": {
   "display_name": "env",
   "language": "python",
   "name": "python3"
  },
  "language_info": {
   "codemirror_mode": {
    "name": "ipython",
    "version": 3
   },
   "file_extension": ".py",
   "mimetype": "text/x-python",
   "name": "python",
   "nbconvert_exporter": "python",
   "pygments_lexer": "ipython3",
   "version": "3.12.2"
  }
 },
 "nbformat": 4,
 "nbformat_minor": 2
}
